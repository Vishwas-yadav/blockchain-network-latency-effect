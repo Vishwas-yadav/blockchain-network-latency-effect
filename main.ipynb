{
 "cells": [
  {
   "cell_type": "code",
   "execution_count": null,
   "metadata": {},
   "outputs": [],
   "source": [
    "import hashlib\n",
    "import time\n",
    "import random\n",
    "\n",
    "class Block:\n",
    "    def __init__(self, data, previous_hash):\n",
    "        self.timestamp = time.time()\n",
    "        self.data = data\n",
    "        self.previous_hash = previous_hash\n",
    "        self.nonce = 0\n",
    "        self.hash = self.calculate_hash()\n",
    "\n",
    "    def calculate_hash(self):\n",
    "        return hashlib.sha256(str(self.timestamp).encode() + \n",
    "                              str(self.data).encode() + \n",
    "                              str(self.previous_hash).encode() + \n",
    "                              str(self.nonce).encode()).hexdigest()\n",
    "\n",
    "    def mine_block(self, difficulty):\n",
    "        while self.hash[:difficulty] != \"0\" * difficulty:\n",
    "            self.nonce += 1\n",
    "            self.hash = self.calculate_hash()\n"
   ]
  }
 ],
 "metadata": {
  "language_info": {
   "name": "python"
  },
  "orig_nbformat": 4
 },
 "nbformat": 4,
 "nbformat_minor": 2
}
